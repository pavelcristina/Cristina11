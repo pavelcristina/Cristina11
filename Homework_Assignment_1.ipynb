{
  "nbformat": 4,
  "nbformat_minor": 0,
  "metadata": {
    "kernelspec": {
      "display_name": "Python 3",
      "language": "python",
      "name": "python3"
    },
    "language_info": {
      "codemirror_mode": {
        "name": "ipython",
        "version": 3
      },
      "file_extension": ".py",
      "mimetype": "text/x-python",
      "name": "python",
      "nbconvert_exporter": "python",
      "pygments_lexer": "ipython3",
      "version": "3.8.5"
    },
    "colab": {
      "name": "Homework Assignment 1",
      "provenance": [],
      "collapsed_sections": [],
      "include_colab_link": true
    }
  },
  "cells": [
    {
      "cell_type": "markdown",
      "metadata": {
        "id": "view-in-github",
        "colab_type": "text"
      },
      "source": [
        "<a href=\"https://colab.research.google.com/github/pavelcristina/Cristina11/blob/main/Homework_Assignment_1.ipynb\" target=\"_parent\"><img src=\"https://colab.research.google.com/assets/colab-badge.svg\" alt=\"Open In Colab\"/></a>"
      ]
    },
    {
      "cell_type": "markdown",
      "metadata": {
        "id": "cA7LXsXTl4T3"
      },
      "source": [
        "## First Assignment"
      ]
    },
    {
      "cell_type": "markdown",
      "metadata": {
        "id": "zFNy2Xskl4UT"
      },
      "source": [
        "#### 1) Apply the appropriate string methods to the **x** variable (as '.upper') to change it exactly to: \"$Dichlorodiphenyltrichloroethane$\"."
      ]
    },
    {
      "cell_type": "code",
      "metadata": {
        "id": "nuchfPQzl4UU"
      },
      "source": [
        "x = \"DiClOrod  IFeNi  lTRicLOr oETaNo  DiChlorod iPHeny lTrichL oroEThaNe\""
      ],
      "execution_count": null,
      "outputs": []
    },
    {
      "cell_type": "code",
      "metadata": {
        "id": "66q3UVUEl4UX",
        "colab": {
          "base_uri": "https://localhost:8080/"
        },
        "outputId": "1f217fd1-3c85-4a58-c1fc-7827c0936ff5"
      },
      "source": [
        "x = \"DiClOrod  IFeNi  lTRicLOr oETaNo  DiChlorod iPHeny lTrichL oroEThaNe\"\n",
        "x = x.replace(\" \",\"\").capitalize()\n",
        "print(x)"
      ],
      "execution_count": null,
      "outputs": [
        {
          "output_type": "stream",
          "text": [
            "Diclorodifeniltricloroetanodichlorodiphenyltrichloroethane\n"
          ],
          "name": "stdout"
        }
      ]
    },
    {
      "cell_type": "markdown",
      "metadata": {
        "id": "s7TgzgpFl4UX"
      },
      "source": [
        "#### 2) Assign respectively the values: 'word', 15, 3.14 and 'list' to variables A, B, C and D in a single line of code. Then, print them in that same order on a single line separated by a space, using only one print statement."
      ]
    },
    {
      "cell_type": "code",
      "metadata": {
        "id": "vP0pHG-Bl4UY",
        "colab": {
          "base_uri": "https://localhost:8080/"
        },
        "outputId": "101cd4b1-c9c9-4e0c-cc81-5ae56712a308"
      },
      "source": [
        "A, B, C, D = 'word', 15, 3.14, 'list'\n",
        "print(A,B,C,D,sep=\" \")"
      ],
      "execution_count": 1,
      "outputs": [
        {
          "output_type": "stream",
          "text": [
            "word 15 3.14 list\n"
          ],
          "name": "stdout"
        }
      ]
    },
    {
      "cell_type": "markdown",
      "metadata": {
        "id": "8OUeFDb2l4UZ"
      },
      "source": [
        "#### 3) Use the **input()** function to receive an input in the form **'68.4 1.71'**, that is, two floating point numbers in a line separated by space. Then, assign these numbers to the variables **w** and **h** respectively, which represent an individual's weight and height (hint: take a look at the '.split()' method). With this data, calculate the individual's Body Mass Index (BMI) from the following relationship: \n",
        "    \n",
        "\\begin{equation}\n",
        "BMI = \\dfrac{weight}{height^2}\n",
        "\\end{equation}"
      ]
    },
    {
      "cell_type": "code",
      "metadata": {
        "id": "C4jOxkZOl4Ua",
        "colab": {
          "base_uri": "https://localhost:8080/"
        },
        "outputId": "0175a240-33bb-46cc-8db4-88bbe2a9249f"
      },
      "source": [
        "w,h = input(\"Enter your weight and height, respectively, separated by a space: \").split()\n",
        "BMI = float(w)/float(h)**2\n",
        "print(BMI)"
      ],
      "execution_count": null,
      "outputs": [
        {
          "output_type": "stream",
          "text": [
            "Enter your weight and height, respectively, separated by a space: 64 167\n",
            "0.0022948115744558786\n"
          ],
          "name": "stdout"
        }
      ]
    },
    {
      "cell_type": "markdown",
      "metadata": {
        "id": "3MrGyCvRl4Ub"
      },
      "source": [
        "#### This value can also be classified according to ranges of values, following to the table below. Use conditional structures to classify and print the classification assigned to the individual. \n",
        "\n",
        "<center><img src=\"https://healthtravelguide.com/wp-content/uploads/2020/06/Body-mass-index-table.png\" width=\"30%\"><\\center>  \n",
        "\n",
        "\n",
        "(source: https://healthtravelguide.com/bmi-calculator/)"
      ]
    },
    {
      "cell_type": "code",
      "metadata": {
        "id": "6US62ymil4Uc",
        "colab": {
          "base_uri": "https://localhost:8080/"
        },
        "outputId": "ddd58fcc-c1b3-4e48-9f6f-98f058ce9ac1"
      },
      "source": [
        "if BMI <= 18.5:\n",
        "    print(\"underweight\")\n",
        "elif BMI <= 24.9:\n",
        "    print(\"normal weight\")\n",
        "elif BMI <= 29.9:\n",
        "    print(\"pre-obesity\")\n",
        "elif BMI <= 34.9:\n",
        "    print(\"Obesity class I\")\n",
        "elif BMI <= 39.9:\n",
        "    print(\"Obesity class II\")\n",
        "else:\n",
        "    print(\"Obesity class III\")"
      ],
      "execution_count": null,
      "outputs": [
        {
          "output_type": "stream",
          "text": [
            "underweight\n"
          ],
          "name": "stdout"
        }
      ]
    },
    {
      "cell_type": "markdown",
      "metadata": {
        "id": "K2YauBu_l4Uc"
      },
      "source": [
        "#### 4) Receive an integer as an input and, using a loop, calculate the factorial of this number, that is, the product of all the integers from one to the number provided. "
      ]
    },
    {
      "cell_type": "code",
      "metadata": {
        "id": "GdawN9-Al4Ue",
        "colab": {
          "base_uri": "https://localhost:8080/"
        },
        "outputId": "3e0ec0f7-447b-43c2-dee0-b77d93a72344"
      },
      "source": [
        "num = int(input(\"Enter an integer: \"))\n",
        "fact = 1\n",
        "for i in range(1,num+1):\n",
        "    fact *= i \n",
        "print(f\"{num}! = {fact}\")"
      ],
      "execution_count": 2,
      "outputs": [
        {
          "output_type": "stream",
          "text": [
            "Enter an integer: 5\n",
            "5! = 120\n"
          ],
          "name": "stdout"
        }
      ]
    },
    {
      "cell_type": "markdown",
      "metadata": {
        "id": "3_hQ7hOPl4Uf"
      },
      "source": [
        "#### 5) Using a while loop and the input function, read an indefinite number of integers until the number read is -1. Present the sum of all these numbers in the form of a print, excluding the -1 read at the end. "
      ]
    },
    {
      "cell_type": "code",
      "metadata": {
        "id": "Qlv_BrDpl4Uf",
        "colab": {
          "base_uri": "https://localhost:8080/"
        },
        "outputId": "cd0fd7f8-6805-458f-803f-8bbf1d03fcdb"
      },
      "source": [
        "sum_numbers, number = 0, 0\n",
        "while number != -1:\n",
        "    sum_numbers += number\n",
        "    number = int(input(\"Enter an integer: \"))\n",
        "print(f\"Sum of numbers = {sum_numbers}\")"
      ],
      "execution_count": 3,
      "outputs": [
        {
          "output_type": "stream",
          "text": [
            "Enter an integer: 5\n",
            "Enter an integer: 8\n",
            "Enter an integer: 9\n",
            "Enter an integer: 1\n",
            "Enter an integer: -1\n",
            "Sum of numbers = 23\n"
          ],
          "name": "stdout"
        }
      ]
    },
    {
      "cell_type": "markdown",
      "metadata": {
        "id": "-kQvnCBPl4Uf"
      },
      "source": [
        "#### 6) Read the **first name** of an employee, his **amount of hours worked** and the **salary per hour** in a single line separated by commas. Next, calculate the **total salary** for this employee and show it to two decimal places."
      ]
    },
    {
      "cell_type": "code",
      "metadata": {
        "id": "ltIXJmlhl4Uf",
        "colab": {
          "base_uri": "https://localhost:8080/"
        },
        "outputId": "9d42a21d-073b-445c-c80c-26ba35858544"
      },
      "source": [
        "firstname, hours_worked, hour_salary = input(\"Insert name, amount of hours worked and salary per hour, separated by commas: \").split(\",\")\n",
        "total_salary = float(hours_worked)*float(hour_salary)\n",
        "print('{:.2f}'.format(total_salary))"
      ],
      "execution_count": null,
      "outputs": [
        {
          "output_type": "stream",
          "text": [
            "Insert name, amount of hours worked and salary per hour, separated by commas: Kitty, 4, 100\n",
            "400.00\n"
          ],
          "name": "stdout"
        }
      ]
    },
    {
      "cell_type": "markdown",
      "metadata": {
        "id": "_xmZozwnl4Ug"
      },
      "source": [
        "#### 7) Read three floating point values **A**, **B** and **C** respectively. Then calculate itens a, b, c, d and e: "
      ]
    },
    {
      "cell_type": "code",
      "metadata": {
        "id": "EKI-IeXql4Ug",
        "colab": {
          "base_uri": "https://localhost:8080/"
        },
        "outputId": "6828d1ef-9b3e-4ad1-907e-7ad46d1251e3"
      },
      "source": [
        "A, B, C = [float(x) for x in input(\"Insert A, B and C\").split(\",\")]"
      ],
      "execution_count": 6,
      "outputs": [
        {
          "output_type": "stream",
          "text": [
            "Insert A, B and C1, 2, 3\n"
          ],
          "name": "stdout"
        }
      ]
    },
    {
      "cell_type": "markdown",
      "metadata": {
        "id": "3tu4shRkl4Uh"
      },
      "source": [
        "    a) the area of the triangle rectangle with A as the base and C as the height."
      ]
    },
    {
      "cell_type": "code",
      "metadata": {
        "id": "ogYJ5aqbl4Uh",
        "colab": {
          "base_uri": "https://localhost:8080/"
        },
        "outputId": "6be01e2c-1c31-47fe-df51-2fb4c5d86e97"
      },
      "source": [
        "print(\"Area:\", A*C/2)"
      ],
      "execution_count": 7,
      "outputs": [
        {
          "output_type": "stream",
          "text": [
            "Area: 1.5\n"
          ],
          "name": "stdout"
        }
      ]
    },
    {
      "cell_type": "markdown",
      "metadata": {
        "id": "TugZ1iFZl4Ui"
      },
      "source": [
        "    b) the area of the circle of radius C. (pi = 3.14159) "
      ]
    },
    {
      "cell_type": "code",
      "metadata": {
        "id": "r7X2AXlpl4Ui",
        "colab": {
          "base_uri": "https://localhost:8080/"
        },
        "outputId": "b89d825c-271b-48da-edc2-55b49fd86ca7"
      },
      "source": [
        "print(\"Area_of_circle:\", 3.14159*C**2)"
      ],
      "execution_count": 8,
      "outputs": [
        {
          "output_type": "stream",
          "text": [
            "Area_of_circle: 28.27431\n"
          ],
          "name": "stdout"
        }
      ]
    },
    {
      "cell_type": "markdown",
      "metadata": {
        "id": "b2HscXIrl4Ui"
      },
      "source": [
        "    c) the area of the trapezoid that has A and B for bases and C for height. "
      ]
    },
    {
      "cell_type": "code",
      "metadata": {
        "id": "kde0X_Jsl4Uj"
      },
      "source": [
        "print(\"Area_of_trapezoid:\", (A+B)*C/2)"
      ],
      "execution_count": null,
      "outputs": []
    },
    {
      "cell_type": "markdown",
      "metadata": {
        "id": "L_boBt1Rl4Uj"
      },
      "source": [
        "    d) the area of the square that has side B. "
      ]
    },
    {
      "cell_type": "code",
      "metadata": {
        "id": "m_d5-yIgl4Uj",
        "colab": {
          "base_uri": "https://localhost:8080/"
        },
        "outputId": "d2c75379-8cc3-4ac3-cdc0-c93a7bb97910"
      },
      "source": [
        "print(\"Area_B:\", B**2)"
      ],
      "execution_count": 10,
      "outputs": [
        {
          "output_type": "stream",
          "text": [
            "Area_B: 4.0\n"
          ],
          "name": "stdout"
        }
      ]
    },
    {
      "cell_type": "markdown",
      "metadata": {
        "id": "fBUJcsLKl4Uj"
      },
      "source": [
        "    e) the area of the rectangle that has sides A and B. "
      ]
    },
    {
      "cell_type": "code",
      "metadata": {
        "id": "VkkcBOS0l4Uk",
        "colab": {
          "base_uri": "https://localhost:8080/"
        },
        "outputId": "ccbab3db-5616-4b32-b01e-08f0a0e3a7fa"
      },
      "source": [
        "print(\"Area_rectangleAB:\", A*B)"
      ],
      "execution_count": 9,
      "outputs": [
        {
          "output_type": "stream",
          "text": [
            "Area_rectangleAB: 2.0\n"
          ],
          "name": "stdout"
        }
      ]
    },
    {
      "cell_type": "markdown",
      "metadata": {
        "id": "5C3QfGT-l4Ur"
      },
      "source": [
        "#### 8) Read **the values a, b and c** and calculate the **roots of the second degree equation** $ax^{2}+bx+c=0$ using [this formula](https://en.wikipedia.org/wiki/Quadratic_equation). If it is not possible to calculate the roots, display the message **“There are no real roots”**. "
      ]
    },
    {
      "cell_type": "code",
      "metadata": {
        "id": "2n6OZkrFl4Us",
        "colab": {
          "base_uri": "https://localhost:8080/"
        },
        "outputId": "502cc135-384b-47e6-9bfa-8e53f5a4f702"
      },
      "source": [
        "a, b, c = [float(x) for x in input(\"Enter a, b and c separated by commas: \").split(\",\")]\n",
        "if a == 0:\n",
        "    print(\"'a' should not be equal to zero!\")\n",
        "else:\n",
        "    delta = (b**2) - (4*a*c)\n",
        "    if delta < 0:\n",
        "        print(\"no real roots\")\n",
        "    elif delta == 0:\n",
        "        x = -b/(2*a)\n",
        "        print(f\"Root: {x}\")\n",
        "    else:\n",
        "        #Reminder: sqrt(n) = n^(1/2)\n",
        "        x1 = (-b+delta**0.5)/(2*a)\n",
        "        x2 = (-b-delta**0.5)/(2*a)\n",
        "        print(f\"Roots: {x1}, {x2}\")"
      ],
      "execution_count": 11,
      "outputs": [
        {
          "output_type": "stream",
          "text": [
            "Enter a, b and c separated by commas: 2, 4, 8\n",
            "no real roots\n"
          ],
          "name": "stdout"
        }
      ]
    },
    {
      "cell_type": "markdown",
      "metadata": {
        "id": "Y7Qxw1ocl4Us"
      },
      "source": [
        "#### 9) Read four floating point numerical values corresponding to the coordinates of two geographical coordinates in the cartesian plane. Each point will come in a line with its coordinates separated by space. Then calculate and show the distance between these two points. \n",
        "\n",
        "(obs: $d=\\sqrt{(x_1-x_2)^2 + (y_1-y_2)^2}$)"
      ]
    },
    {
      "cell_type": "code",
      "metadata": {
        "id": "cGUzxddLl4Us",
        "colab": {
          "base_uri": "https://localhost:8080/"
        },
        "outputId": "c0f3e428-e512-432f-fa20-919decef8373"
      },
      "source": [
        "x1, y1 = [float(i) for i in input(\"Enter coordinates x1 and y1: \").split(\",\")]\n",
        "x2, y2 = [float(i) for i in input(\"Enter coordinates x2 and y2: \").split(\",\")]\n",
        "d = ((x1-x2)**2+(y1-y2)**2)**0.5\n",
        "print(f\"d = {d}\")"
      ],
      "execution_count": 12,
      "outputs": [
        {
          "output_type": "stream",
          "text": [
            "Enter coordinates x1 and y1: 7, 8\n",
            "Enter coordinates x2 and y2: 7, 4\n",
            "d = 4.0\n"
          ],
          "name": "stdout"
        }
      ]
    },
    {
      "cell_type": "markdown",
      "metadata": {
        "id": "2tuDUseAl4Ut"
      },
      "source": [
        "#### 10) Read **two floating point numbers** on a line that represent **coordinates of a cartesian point**. With this, use **conditional structures** to determine if you are at the origin, printing the message **'origin'**; in one of the axes, printing **'x axis'** or **'y axis'**; or in one of the four quadrants, printing **'q1'**, **'q2**', **'q3'** or **'q4'**. "
      ]
    },
    {
      "cell_type": "code",
      "metadata": {
        "id": "1uP-uemHl4Uu",
        "colab": {
          "base_uri": "https://localhost:8080/"
        },
        "outputId": "30bb49b4-6f53-47c3-f22d-e98e6d51e477"
      },
      "source": [
        "x, y = [float(x) for x in input(\"Insert x and y: \").split(\",\")]\n",
        "\n",
        "if x == 0 and y == 0:\n",
        "    print('origin')\n",
        "elif x == 0:\n",
        "    print('y axis')\n",
        "elif y == 0:\n",
        "    print('x axis')\n",
        "elif x > 0 and y > 0:\n",
        "    print('q1')\n",
        "elif x > 0:\n",
        "    print('q4')\n",
        "elif y > 0:\n",
        "    print('q2')\n",
        "else:\n",
        "    print('q3')"
      ],
      "execution_count": 15,
      "outputs": [
        {
          "output_type": "stream",
          "text": [
            "Insert x and y: 2, 3\n",
            "q1\n"
          ],
          "name": "stdout"
        }
      ]
    },
    {
      "cell_type": "markdown",
      "metadata": {
        "id": "gNBzHR2Cl4Uu"
      },
      "source": [
        "#### 11) Read an integer that represents a phone code for international dialing.  \n",
        "#### Then, inform to which country the code belongs to, considering the generated table below:\n",
        "(You just need to consider the first 10 entries)  "
      ]
    },
    {
      "cell_type": "code",
      "metadata": {
        "id": "foK8FXC6l4Uu",
        "colab": {
          "base_uri": "https://localhost:8080/",
          "height": 676
        },
        "outputId": "fd6d43b3-f75d-404b-c75f-413bb809ae27"
      },
      "source": [
        "import pandas as pd\n",
        "df = pd.read_html('https://en.wikipedia.org/wiki/Telephone_numbers_in_Europe')[1]\n",
        "df = df.iloc[:,:2]\n",
        "df.head(20)"
      ],
      "execution_count": 16,
      "outputs": [
        {
          "output_type": "execute_result",
          "data": {
            "text/html": [
              "<div>\n",
              "<style scoped>\n",
              "    .dataframe tbody tr th:only-of-type {\n",
              "        vertical-align: middle;\n",
              "    }\n",
              "\n",
              "    .dataframe tbody tr th {\n",
              "        vertical-align: top;\n",
              "    }\n",
              "\n",
              "    .dataframe thead th {\n",
              "        text-align: right;\n",
              "    }\n",
              "</style>\n",
              "<table border=\"1\" class=\"dataframe\">\n",
              "  <thead>\n",
              "    <tr style=\"text-align: right;\">\n",
              "      <th></th>\n",
              "      <th>Country</th>\n",
              "      <th>Country calling code</th>\n",
              "    </tr>\n",
              "  </thead>\n",
              "  <tbody>\n",
              "    <tr>\n",
              "      <th>0</th>\n",
              "      <td>Austria</td>\n",
              "      <td>43</td>\n",
              "    </tr>\n",
              "    <tr>\n",
              "      <th>1</th>\n",
              "      <td>Belgium</td>\n",
              "      <td>32</td>\n",
              "    </tr>\n",
              "    <tr>\n",
              "      <th>2</th>\n",
              "      <td>Bulgaria</td>\n",
              "      <td>359</td>\n",
              "    </tr>\n",
              "    <tr>\n",
              "      <th>3</th>\n",
              "      <td>Croatia</td>\n",
              "      <td>385</td>\n",
              "    </tr>\n",
              "    <tr>\n",
              "      <th>4</th>\n",
              "      <td>Cyprus</td>\n",
              "      <td>357</td>\n",
              "    </tr>\n",
              "    <tr>\n",
              "      <th>5</th>\n",
              "      <td>Czech Republic</td>\n",
              "      <td>420</td>\n",
              "    </tr>\n",
              "    <tr>\n",
              "      <th>6</th>\n",
              "      <td>Denmark</td>\n",
              "      <td>45</td>\n",
              "    </tr>\n",
              "    <tr>\n",
              "      <th>7</th>\n",
              "      <td>Estonia</td>\n",
              "      <td>372</td>\n",
              "    </tr>\n",
              "    <tr>\n",
              "      <th>8</th>\n",
              "      <td>Finland</td>\n",
              "      <td>358</td>\n",
              "    </tr>\n",
              "    <tr>\n",
              "      <th>9</th>\n",
              "      <td>France</td>\n",
              "      <td>33</td>\n",
              "    </tr>\n",
              "    <tr>\n",
              "      <th>10</th>\n",
              "      <td>Germany</td>\n",
              "      <td>49</td>\n",
              "    </tr>\n",
              "    <tr>\n",
              "      <th>11</th>\n",
              "      <td>Greece</td>\n",
              "      <td>30</td>\n",
              "    </tr>\n",
              "    <tr>\n",
              "      <th>12</th>\n",
              "      <td>Hungary</td>\n",
              "      <td>36</td>\n",
              "    </tr>\n",
              "    <tr>\n",
              "      <th>13</th>\n",
              "      <td>Iceland</td>\n",
              "      <td>354</td>\n",
              "    </tr>\n",
              "    <tr>\n",
              "      <th>14</th>\n",
              "      <td>Ireland</td>\n",
              "      <td>353</td>\n",
              "    </tr>\n",
              "    <tr>\n",
              "      <th>15</th>\n",
              "      <td>Italy</td>\n",
              "      <td>39</td>\n",
              "    </tr>\n",
              "    <tr>\n",
              "      <th>16</th>\n",
              "      <td>Latvia</td>\n",
              "      <td>371</td>\n",
              "    </tr>\n",
              "    <tr>\n",
              "      <th>17</th>\n",
              "      <td>Liechtenstein</td>\n",
              "      <td>423</td>\n",
              "    </tr>\n",
              "    <tr>\n",
              "      <th>18</th>\n",
              "      <td>Lithuania</td>\n",
              "      <td>370</td>\n",
              "    </tr>\n",
              "    <tr>\n",
              "      <th>19</th>\n",
              "      <td>Luxembourg</td>\n",
              "      <td>352</td>\n",
              "    </tr>\n",
              "  </tbody>\n",
              "</table>\n",
              "</div>"
            ],
            "text/plain": [
              "           Country Country calling code\n",
              "0          Austria                   43\n",
              "1          Belgium                   32\n",
              "2         Bulgaria                  359\n",
              "3          Croatia                  385\n",
              "4           Cyprus                  357\n",
              "5   Czech Republic                  420\n",
              "6          Denmark                   45\n",
              "7          Estonia                  372\n",
              "8          Finland                  358\n",
              "9           France                   33\n",
              "10         Germany                   49\n",
              "11          Greece                   30\n",
              "12         Hungary                   36\n",
              "13         Iceland                  354\n",
              "14         Ireland                  353\n",
              "15           Italy                   39\n",
              "16          Latvia                  371\n",
              "17   Liechtenstein                  423\n",
              "18       Lithuania                  370\n",
              "19      Luxembourg                  352"
            ]
          },
          "metadata": {
            "tags": []
          },
          "execution_count": 16
        }
      ]
    },
    {
      "cell_type": "code",
      "metadata": {
        "id": "0hghzPoZl4Uv",
        "colab": {
          "base_uri": "https://localhost:8080/"
        },
        "outputId": "3048f4a0-e7b7-4221-f18f-1fbb23bced80"
      },
      "source": [
        "code = int(input(\"Enter the country calling code:\"))\n",
        "codes = {43:'Austria',\n",
        "             32:'Belgium',\n",
        "             359:'Bulgaria',\n",
        "             385:'Croatia',\n",
        "             357:'Cyprus',\n",
        "             420:'Czech Republic',\n",
        "             45:'Denmark',\n",
        "             372:'Estonia',\n",
        "             359:'Finland',\n",
        "             33:'France',\n",
        "            }\n",
        "if code in codes.keys():\n",
        "    print(codes[code])\n",
        "else:\n",
        "    print('Code was not recognized.')"
      ],
      "execution_count": 17,
      "outputs": [
        {
          "output_type": "stream",
          "text": [
            "Enter the country calling code:32\n",
            "Belgium\n"
          ],
          "name": "stdout"
        }
      ]
    },
    {
      "cell_type": "markdown",
      "metadata": {
        "id": "wFzdIElNl4Uv"
      },
      "source": [
        "#### 12) Write a piece of code that reads 6 numbers in a row. Next, show the number of positive values entered. On the next line, print the average of the values to one decimal place. "
      ]
    },
    {
      "cell_type": "code",
      "metadata": {
        "id": "PZvXAfKKl4Uv",
        "colab": {
          "base_uri": "https://localhost:8080/"
        },
        "outputId": "b1e58299-0ab5-4da3-a39d-a1c8d31f951e"
      },
      "source": [
        "answers = [float(x) for x in input(\"Enter six values that are separated by commas: \").split(\",\")]\n",
        "\n",
        "positive, total = 0, 0\n",
        "for i in answers :\n",
        "    total += i\n",
        "    if i > 0:\n",
        "        positive += 1\n",
        "print(f\"{positive} positive numbers\")\n",
        "print(f\"Average = {total/6}\")"
      ],
      "execution_count": 18,
      "outputs": [
        {
          "output_type": "stream",
          "text": [
            "Enter six values that are separated by commas: 3,4,5,6,7,8\n",
            "6 positive numbers\n",
            "Average = 5.5\n"
          ],
          "name": "stdout"
        }
      ]
    },
    {
      "cell_type": "markdown",
      "metadata": {
        "id": "29ARgGUml4Uv"
      },
      "source": [
        "#### 13) Read an integer **N**. Then print the **square of each of the even values**, from 1 to N, including N, if applicable, arranged one per line. "
      ]
    },
    {
      "cell_type": "code",
      "metadata": {
        "id": "SFLazVvBl4Uv",
        "colab": {
          "base_uri": "https://localhost:8080/"
        },
        "outputId": "c6c4cf5a-d5dd-42b7-e90d-0cdb89ac4003"
      },
      "source": [
        "N = int(input(\"Enter integer N: \"))\n",
        "for i in range(1,N+1):\n",
        "    if i%2==0:\n",
        "        print(i**2)"
      ],
      "execution_count": 19,
      "outputs": [
        {
          "output_type": "stream",
          "text": [
            "Enter number N: 5\n",
            "4\n",
            "16\n"
          ],
          "name": "stdout"
        }
      ]
    },
    {
      "cell_type": "markdown",
      "metadata": {
        "id": "d58QNay4l4Uw"
      },
      "source": [
        "#### 14) Using **input()**, read an integer and print its classification as **'even / odd'** and **'positive / negative'** . The two classes for the number must be printed on the same line separated by a space. In the case of zero, print only **'null'**. "
      ]
    },
    {
      "cell_type": "code",
      "metadata": {
        "id": "0diMqKcEl4Uw",
        "colab": {
          "base_uri": "https://localhost:8080/"
        },
        "outputId": "535ceff2-3ae3-4f15-e0f3-ba1564a8cf19"
      },
      "source": [
        "number = int(input('Enter an integer: '))\n",
        "classification1 = \"even\" if number%2 == 0 else \"odd\"\n",
        "classification2 = 'positive' if number == abs(number) else 'negative' \n",
        "if number == 0:\n",
        "    print(\"Null\")\n",
        "else:\n",
        "    print(classification1, classification2)"
      ],
      "execution_count": 20,
      "outputs": [
        {
          "output_type": "stream",
          "text": [
            "Enter an integer: 3\n",
            "odd positive\n"
          ],
          "name": "stdout"
        }
      ]
    },
    {
      "cell_type": "markdown",
      "metadata": {
        "id": "1N26CfXol4Ux"
      },
      "source": [
        "## Challenge\n",
        "#### 15) Ordering problems are recurrent in the history of programming. Over time, several algorithms have been developed to fulfill this function. The simplest of these algorithms is the [**Bubble Sort**](https://en.wikipedia.org/wiki/Bubble_sort), which is based on comparisons of elements two by two in a loop of passes through the elements. Your mission, if you decide to accept it, will be to input six whole numbers ramdonly ordered. Then implement the **Bubble Sort** principle to order these six numbers **using only loops and conditionals**.  \n",
        "#### At the end, print the six numbers in ascending order on a single line separated by spaces. "
      ]
    },
    {
      "cell_type": "code",
      "metadata": {
        "id": "1O_jIsJQl4Ux"
      },
      "source": [
        ""
      ],
      "execution_count": null,
      "outputs": []
    }
  ]
}