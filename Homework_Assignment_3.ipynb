{
  "nbformat": 4,
  "nbformat_minor": 0,
  "metadata": {
    "kernelspec": {
      "display_name": "Python 3",
      "language": "python",
      "name": "python3"
    },
    "language_info": {
      "codemirror_mode": {
        "name": "ipython",
        "version": 3
      },
      "file_extension": ".py",
      "mimetype": "text/x-python",
      "name": "python",
      "nbconvert_exporter": "python",
      "pygments_lexer": "ipython3",
      "version": "3.8.5"
    },
    "colab": {
      "name": "Homework Assignment_3",
      "provenance": [],
      "collapsed_sections": []
    }
  },
  "cells": [
    {
      "cell_type": "markdown",
      "metadata": {
        "id": "3L5cwnW0Ay8p"
      },
      "source": [
        "## Third Assignment"
      ]
    },
    {
      "cell_type": "markdown",
      "metadata": {
        "id": "etY0OVnJAy9P"
      },
      "source": [
        "#### 1) Create a function named **swap ()**, which receives two tuples **a** and **b**, with two elements each. Your code should cause the last elements of the two tuples to be exchanged, and then return the two tuples. "
      ]
    },
    {
      "cell_type": "code",
      "metadata": {
        "id": "ISfe50miAy9X",
        "colab": {
          "base_uri": "https://localhost:8080/"
        },
        "outputId": "dd29c3ef-ae1a-415b-cb1a-fc207fbb4ebd"
      },
      "source": [
        "def swap(a,b):\n",
        "\n",
        "  a = (a[0], a[1])\n",
        "  b = (b[0],b[1])\n",
        "  al = list(a)\n",
        "  bl = list(b)\n",
        "  al[1] = bl[1]\n",
        "  bl[1] = al[1]\n",
        "  a = tuple(al)\n",
        "  b = tuple(bl)\n",
        "\n",
        "  return a,b\n",
        "\n",
        "a = (1, 5)\n",
        "b = (3, 4)\n",
        "  \n",
        "print(swap(a,b))\n"
      ],
      "execution_count": 7,
      "outputs": [
        {
          "output_type": "stream",
          "text": [
            "((1, 4), (3, 4))\n"
          ],
          "name": "stdout"
        }
      ]
    },
    {
      "cell_type": "markdown",
      "metadata": {
        "id": "HsGgJR0oAy9g"
      },
      "source": [
        "#### 2) Create the function **dist ()** that takes as an argument two tuples that represent Cartesian coordinates of two points. Your function must return a number that corresponds to the Cartesian distance between these two points."
      ]
    },
    {
      "cell_type": "code",
      "metadata": {
        "id": "MuFSzlVYAy9l",
        "colab": {
          "base_uri": "https://localhost:8080/"
        },
        "outputId": "bad315ad-8961-4511-ca42-2160e411a8e7"
      },
      "source": [
        "import math\n",
        "\n",
        "def dist(a, b):\n",
        "  return math.sqrt((b[0] - a[0])**2 + (b[1] - a[1])**2)\n",
        "\n",
        "print(dist((3,1), (5,3)))"
      ],
      "execution_count": null,
      "outputs": [
        {
          "output_type": "stream",
          "text": [
            "2.8284271247461903\n"
          ],
          "name": "stdout"
        }
      ]
    },
    {
      "cell_type": "markdown",
      "metadata": {
        "id": "7AAw28s8Ay9q"
      },
      "source": [
        "#### 3) Create the class **Ball**, to represent a sphere filled with water (weighing 1000g per cubic meter) with a radius **r**. Depending on the surface painting, it can have different weights: blue - weight 1g per square meter: yellow - 2g per square meter or red - 3g per square meter. The class parameter is a tuple **(r, color)**, an integer and a string, respectively. The **weight()** method of the class should return the total weight in kg of the ball (the weight of the water with the external weight of the surface). See example:\n",
        "\n",
        ">```python\n",
        ">>>> Ball((2, \"red\")).weight()\n",
        "> 33.66111808566343\n",
        ">\n",
        ">>>> Ball((3, \"blue\")).weight()\n",
        "> 113.21043286476177\n",
        "\n",
        "Hints: \n",
        "- Use $\\pi$ = 3.14159\n",
        "- Sphere volume: $\\frac43 \\pi r^3$\n",
        "- Surface area: $4\\pi r^2$"
      ]
    },
    {
      "cell_type": "code",
      "metadata": {
        "id": "TzWbCE48Ay9w"
      },
      "source": [
        "\n"
      ],
      "execution_count": null,
      "outputs": []
    },
    {
      "cell_type": "markdown",
      "metadata": {
        "id": "xg4uxywuAy9y"
      },
      "source": [
        "#### 4) Roman numbers are occasionally used for time stamps or other purposes, but their manual conversion is somewhat laborious. Your task is to implement two functions, ***int_to_Roman() ]*** which converts an integer to Roman (in string) and **Roman_to_int()** which does the reverse. See examples below:\n",
        "\n",
        ">```python\n",
        ">>>> int_to_Roman(1)\n",
        "> I\n",
        ">>>> int_to_Roman(3000)\n",
        "> MMM\n",
        ">\n",
        ">>>> Roman_to_int('MMMCMLXXXVI')\n",
        "> 3986\n",
        ">>>> Roman_to_int('C')\n",
        "> 100\n",
        "\n",
        "Note: All test cases will be less than 4000, so you do not have to worry about the characters with bars above them, used in some versions of the Roman numbering system."
      ]
    },
    {
      "cell_type": "code",
      "metadata": {
        "id": "T5zev_VuAy97",
        "colab": {
          "base_uri": "https://localhost:8080/"
        },
        "outputId": "508f8b04-3e5e-4ea8-8f1f-b34ba167d484"
      },
      "source": [
        "def roman_numbers(number):\n",
        "  results = \"\"\n",
        "  thousands = number/1000\n",
        "  i = 1\n",
        "  while i <= thousands:\n",
        "      results += \"M\"\n",
        "      i += 1\n",
        " \n",
        "  number = number % 1000\n",
        "  fiveHundreds = number/500\n",
        "  i = 1\n",
        "  while i <= fiveHundreds:\n",
        "      results += \"D\"\n",
        "      i += 1\n",
        " \n",
        "  number = number % 500\n",
        "  hundreds = number/100\n",
        "  i = 1\n",
        "  while i <= hundreds:\n",
        "      results += \"C\"\n",
        "      i += 1i\n",
        " \n",
        "  number = number % 100\n",
        "  fifties = number/50\n",
        "  i = 1\n",
        "  while i <= fifties:\n",
        "      results += \"L\"\n",
        "      i += 1\n",
        " \n",
        "  number = number % 50\n",
        "  tens = number/10\n",
        "  i = 1\n",
        "  while i <= tens:\n",
        "      results += \"X\"\n",
        "      i += 1\n",
        " \n",
        "  number = number % 10\n",
        "  i = 1\n",
        "  while i <= number:\n",
        "      results += \"I\"\n",
        "      i += 1\n",
        " \n",
        "  return results\n",
        " \n",
        "print(roman_numbers(2623))"
      ],
      "execution_count": null,
      "outputs": [
        {
          "output_type": "stream",
          "text": [
            "MMDCXXIII\n"
          ],
          "name": "stdout"
        }
      ]
    },
    {
      "cell_type": "code",
      "metadata": {
        "id": "-eSDA6vyAy-B"
      },
      "source": [
        ""
      ],
      "execution_count": null,
      "outputs": []
    },
    {
      "cell_type": "markdown",
      "metadata": {
        "id": "hZbcZ2mZAy-C"
      },
      "source": [
        "#### 5) The **area()** function receives a list **l** of ordered pairs. These ordered pairs represent the vertices of a convex polygon in the Cartesian plane traversed in a single direction. There is a mathematical method that, given the coordinates of the vertices of a polygon, the area can be calculated. You can find more details about the method by clicking [here](https://www.mathopenref.com/coordpolygonarea.html). Your code should make the function return the number that corresponds to the area of the polygon represented by the entry (rounded to two decimal places). See the following examples:\n",
        "\n",
        ">```python\n",
        ">>>> area([(0,0),(5,0),(13,8)])\n",
        "> 20.00\n",
        ">\n",
        ">>>> area([(2,0),(6,0),(10,4),(0,4)])\n",
        "> 28.00\n",
        "```"
      ]
    },
    {
      "cell_type": "code",
      "metadata": {
        "id": "8IX7cjqgAy-E"
      },
      "source": [
        ""
      ],
      "execution_count": null,
      "outputs": []
    },
    {
      "cell_type": "markdown",
      "metadata": {
        "id": "zpQ34F66Ay-H"
      },
      "source": [
        "## Challenge\n",
        "\n",
        "#### 6) The function **matches()** receives a list **l** of ordered distinct integers and an integer **n**. Its must return a list of tuples, each tuple with **n** elements, containing all possible combinations **n** by **n** (ordered, without repetitions) of the elements in the list **l**. You should only return a list **r** containing the generated tuples. Make sure that tuples are ordered in the list. See the examples below:\n",
        "\n",
        ">```python\n",
        ">>>> matches([1,2,3,4],2)\n",
        "> [(1,2),(1,3),(1,4),(2,3),(2,4),(3,4)]\n",
        ">\n",
        ">>>> matches([1,2,3,4],3)\n",
        "> [(1, 2, 3), (1, 2, 4), (1, 3, 4), (2, 3, 4)]\n"
      ]
    },
    {
      "cell_type": "code",
      "metadata": {
        "id": "A_3-YeeoAy-L"
      },
      "source": [
        ""
      ],
      "execution_count": null,
      "outputs": []
    }
  ]
}