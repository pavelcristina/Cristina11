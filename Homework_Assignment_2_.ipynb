{
  "nbformat": 4,
  "nbformat_minor": 0,
  "metadata": {
    "kernelspec": {
      "display_name": "Python 3",
      "language": "python",
      "name": "python3"
    },
    "language_info": {
      "codemirror_mode": {
        "name": "ipython",
        "version": 3
      },
      "file_extension": ".py",
      "mimetype": "text/x-python",
      "name": "python",
      "nbconvert_exporter": "python",
      "pygments_lexer": "ipython3",
      "version": "3.8.5"
    },
    "colab": {
      "name": "Homework Assignment_2.",
      "provenance": [],
      "collapsed_sections": [],
      "include_colab_link": true
    }
  },
  "cells": [
    {
      "cell_type": "markdown",
      "metadata": {
        "id": "view-in-github",
        "colab_type": "text"
      },
      "source": [
        "<a href=\"https://colab.research.google.com/github/pavelcristina/Cristina11/blob/main/Homework_Assignment_2_.ipynb\" target=\"_parent\"><img src=\"https://colab.research.google.com/assets/colab-badge.svg\" alt=\"Open In Colab\"/></a>"
      ]
    },
    {
      "cell_type": "markdown",
      "metadata": {
        "id": "ZapiPPDiWzWx"
      },
      "source": [
        "## Second Assignment"
      ]
    },
    {
      "cell_type": "markdown",
      "metadata": {
        "id": "oFwCRI8oWzW5"
      },
      "source": [
        "#### 1) Create a function called **\"even_squared\"** that receives an integer value **N**, and returns a list containing, in ascending order, the square of each of the even values, from 1 to N, including N if applicable. "
      ]
    },
    {
      "cell_type": "code",
      "metadata": {
        "id": "tyobTypSWzW7",
        "colab": {
          "base_uri": "https://localhost:8080/"
        },
        "outputId": "19e10296-bc7e-471c-f8a1-b28a0ff95780"
      },
      "source": [
        "def even_squared(N):\n",
        "  return [x**2 for x in range(2,N+1,2)]\n",
        "\n",
        "n = int(input(\"Please insert a number : \"))\n",
        "\n",
        "number = even_squared(n)\n",
        "\n",
        "\n",
        "print(number)\n"
      ],
      "execution_count": null,
      "outputs": [
        {
          "output_type": "stream",
          "text": [
            "Please insert a number : 9\n",
            "[4, 16, 36, 64]\n"
          ],
          "name": "stdout"
        }
      ]
    },
    {
      "cell_type": "markdown",
      "metadata": {
        "id": "3ckV4WxpWzW9"
      },
      "source": [
        "#### 2) Using a while loop and the **input()** function, read an indefinite amount of **integers** until the number read is **-1**. After this process, print two lists on the screen: The first containing the even integers, and the second containing the odd integers. Both must be in ascending order. "
      ]
    },
    {
      "cell_type": "code",
      "metadata": {
        "id": "5cDdH8RoWzW-",
        "colab": {
          "base_uri": "https://localhost:8080/"
        },
        "outputId": "a748e03f-3ac8-4897-f9fe-74a11842debd"
      },
      "source": [
        "list_of_even = []\n",
        "list_of_odd = []\n",
        "while True:\n",
        "    insert_number = int(input(\"Insert an integer: \"))\n",
        "    if insert_number == -1:\n",
        "        break\n",
        "    if insert_number%2:\n",
        "        list_of_odd.append(insert_number)\n",
        "    else:\n",
        "        list_of_even.append(insert_number)\n",
        "print(sorted(list_of_even))\n",
        "print(sorted(list_of_odd))"
      ],
      "execution_count": 3,
      "outputs": [
        {
          "output_type": "stream",
          "text": [
            "Insert an integer: -1\n",
            "[]\n",
            "[]\n"
          ],
          "name": "stdout"
        }
      ]
    },
    {
      "cell_type": "markdown",
      "metadata": {
        "id": "lk0fG4IJWzW_"
      },
      "source": [
        "#### 3) Create a function called **\"even_account\"** that receives a list of integers, counts the number of existing even elements, and returns this count. "
      ]
    },
    {
      "cell_type": "code",
      "metadata": {
        "id": "zL4Vlrz6WzXA",
        "colab": {
          "base_uri": "https://localhost:8080/"
        },
        "outputId": "5e57019f-7269-4518-ee38-679d8a83fab7"
      },
      "source": [
        "def even_account(n):\n",
        "    return len(list(filter(lambda x:x%2==0,n)))\n",
        "n = []\n",
        "numbers = int(input(\"Please select a number of integers : \"))\n",
        "for i in range(0,numbers):\n",
        "  elements = int(input())\n",
        "  n.append(elements)\n",
        "\n",
        "print(even_account(n))"
      ],
      "execution_count": 11,
      "outputs": [
        {
          "output_type": "stream",
          "text": [
            "Please insert a number of integers : 4\n",
            "2\n",
            "3\n",
            "6\n",
            "7\n",
            "2\n"
          ],
          "name": "stdout"
        }
      ]
    },
    {
      "cell_type": "markdown",
      "metadata": {
        "id": "frAf0cLCWzXA"
      },
      "source": [
        "#### 4) Create a function called **\"squared_list\"** that receives a list of integers and returns another list whose elements are the squares of the elements of the first. "
      ]
    },
    {
      "cell_type": "code",
      "metadata": {
        "id": "YC-WxE_0WzXB",
        "colab": {
          "base_uri": "https://localhost:8080/"
        },
        "outputId": "9d2cb2c4-69e7-4c80-a939-3c4db214eb8a"
      },
      "source": [
        "def squared_list(n):\n",
        "    return list(map(lambda x: x**2, n)) \n",
        "n = []\n",
        "numbers = int(input(\"Please select a number of integers : \"))\n",
        "for i in range(0,numbers):\n",
        "  elements = int(input())\n",
        "  n.append(elements)  \n",
        "\n",
        "print(squared_list(n))"
      ],
      "execution_count": 12,
      "outputs": [
        {
          "output_type": "stream",
          "text": [
            "Please insert a number of integers : 3\n",
            "2\n",
            "3\n",
            "5\n",
            "[4, 9, 25]\n"
          ],
          "name": "stdout"
        }
      ]
    },
    {
      "cell_type": "markdown",
      "metadata": {
        "id": "F0s1k25ZWzXC"
      },
      "source": [
        "#### 5) Create a function called **\"descending\"** that receives two lists of integers and returns a single list, which contains all the elements in descending order, and may include repeated elements. "
      ]
    },
    {
      "cell_type": "code",
      "metadata": {
        "id": "4i_Ykq9kWzXC",
        "colab": {
          "base_uri": "https://localhost:8080/"
        },
        "outputId": "bf7e07f8-99b5-4755-c3c9-49686ed843ee"
      },
      "source": [
        "def descending(list1, list2):\n",
        "    list3 = list_1 + list_2\n",
        "    list3.sort(reverse=True)\n",
        "    return list3\n",
        "#could do the same as above and ask the user to create a list but also it can be easier if we give the lists and call the function\n",
        "\n",
        "list1 = [1,4,6,7,89,5]\n",
        "list2 = [2,7,8,5,3,41]\n",
        "\n",
        "n = descending(list1, list2)\n",
        "\n",
        "print(n)"
      ],
      "execution_count": 16,
      "outputs": [
        {
          "output_type": "stream",
          "text": [
            "[89, 41, 8, 7, 7, 6, 5, 5, 4, 3, 2, 1]\n"
          ],
          "name": "stdout"
        }
      ]
    },
    {
      "cell_type": "markdown",
      "metadata": {
        "id": "w8oV4FlDWzXD"
      },
      "source": [
        "#### 6) Create a function called **\"adding\"** that receives a list **A**, and an arbitrary number of integers as input. Return a new list containing the elements of **A** plus the integers passed as input, in the order in which they were given. Here is an example: \n",
        "\n",
        ">```python\n",
        ">>>> A = [10,20,30]\n",
        ">>>> adding(A, 4, 10, 50, 1)\n",
        "> [10, 20, 30, 4, 10, 50, 1]\n",
        "```"
      ]
    },
    {
      "cell_type": "code",
      "metadata": {
        "id": "wjDJt0EXWzXE",
        "colab": {
          "base_uri": "https://localhost:8080/"
        },
        "outputId": "15dfca21-b384-48cb-9a44-3f32a96d3c32"
      },
      "source": [
        "def adding(A,*integers):\n",
        "    A.extend(integers)\n",
        "    return A\n",
        "A = [1, 2, 3, 4, 5, 6 ]\n",
        "\n",
        "numbers = int(input(\"Please select a number of integers : \"))\n",
        "for i in range(0,numbers):\n",
        "  elements = int(input())\n",
        "\n",
        "thelist = adding(A,elements)\n",
        "\n",
        "print(thelist)"
      ],
      "execution_count": 19,
      "outputs": [
        {
          "output_type": "stream",
          "text": [
            "Please select a number of integers : 2\n",
            "1\n",
            "2\n",
            "[1, 2, 3, 4, 5, 6, 2]\n"
          ],
          "name": "stdout"
        }
      ]
    },
    {
      "cell_type": "markdown",
      "metadata": {
        "id": "TRE3SkCsWzXE"
      },
      "source": [
        "#### 7) Create a function called **\"intersection\"** that receives two input lists and returns another list with the values that belong to the two lists simultaneously (intersection) without repetition of values and in ascending order. Use only lists (do not use sets); loops and conditionals. See the example: \n",
        "\n",
        ">```python\n",
        ">>>> A = [-2, 0, 1, 2, 3]\n",
        ">>>> B = [-1, 2, 3, 6, 8]\n",
        ">>>> intersection(A,B)\n",
        "> [2, 3]\n",
        "```"
      ]
    },
    {
      "cell_type": "code",
      "metadata": {
        "id": "AGUBNkIyWzXF",
        "colab": {
          "base_uri": "https://localhost:8080/"
        },
        "outputId": "dd1db3eb-825c-45b9-da40-8f7665eeeb9e"
      },
      "source": [
        "def intersection(A,B):\n",
        "    C = [value for value in A if value in B]\n",
        "    intersec = []    \n",
        "    [intersec.append(x) for x in C if x not in intersec]\n",
        "    return sorted(intersec)\n",
        "\n",
        "#right now i am calling the function within print \n",
        "print(intersection([-2, 0, 1, 2, 3],[-1, 2, 3, 6, 8]))"
      ],
      "execution_count": 21,
      "outputs": [
        {
          "output_type": "stream",
          "text": [
            "[2, 3]\n"
          ],
          "name": "stdout"
        }
      ]
    },
    {
      "cell_type": "markdown",
      "metadata": {
        "id": "HnG5XKT4WzXF"
      },
      "source": [
        "#### 8) Create a function called **\"union\"** that receives two input lists and returns another list with the union of the elements of the two received, without repetition of elements and in ascending order. Use only lists (do not use sets); loops and conditionals. See the example: \n",
        "\n",
        ">```python\n",
        ">>>> A = [-2, 0, 1, 2]\n",
        ">>>> B = [-1, 1, 2, 10]\n",
        ">>>> union(A,B)\n",
        "> [-2, ,-1, 0, 1, 2, 10]\n",
        "```"
      ]
    },
    {
      "cell_type": "code",
      "metadata": {
        "id": "Q4JI3CrIWzXG",
        "colab": {
          "base_uri": "https://localhost:8080/"
        },
        "outputId": "eda9bc58-19e5-4615-c9b3-138b7ae76fd2"
      },
      "source": [
        "def union(A,B):\n",
        "    C = A + B\n",
        "    uni = []\n",
        "    [uni.append(x) for x in C if x not in uni]\n",
        "    return sorted(uni)\n",
        "\n",
        "print(union([3,6,7],[0,6,8]))"
      ],
      "execution_count": 22,
      "outputs": [
        {
          "output_type": "stream",
          "text": [
            "[0, 3, 6, 7, 8]\n"
          ],
          "name": "stdout"
        }
      ]
    },
    {
      "cell_type": "markdown",
      "metadata": {
        "id": "MBLCJX-jWzXG"
      },
      "source": [
        "#### 9) Generalize the **\"intersection\"** function so that it receives an indefinite number of lists and returns the intersection of all of them. Call the new function **intersection2**. "
      ]
    },
    {
      "cell_type": "code",
      "metadata": {
        "id": "41dceJg_WzXG",
        "colab": {
          "base_uri": "https://localhost:8080/"
        },
        "outputId": "6d83ce19-6799-473d-e41c-16627c4e4488"
      },
      "source": [
        "def intersection2(*lists):\n",
        "    lo = lists[0]                            \n",
        "    for l in lists:\n",
        "        lo = list(set(lo) & set(l))\n",
        "    return lo\n",
        "    \n",
        "print(intersection2([0,9,4,7],[6,7,8],[5,6,7],[7,8,9,0]))"
      ],
      "execution_count": 31,
      "outputs": [
        {
          "output_type": "stream",
          "text": [
            "[7]\n"
          ],
          "name": "stdout"
        }
      ]
    },
    {
      "cell_type": "markdown",
      "metadata": {
        "id": "F-L-FXWVWzXH"
      },
      "source": [
        "## Challenge\n",
        "\n",
        "#### 10) Create a function named **\"matrix\"** that implements matrix multiplication:\n",
        "    \n",
        "Given the matrices:\n",
        "    \n",
        "$A_{m\\times n}=\n",
        "\\left[\\begin{matrix}\n",
        "a_{11}&a_{12}&...&a_{1n}\\\\\n",
        "a_{21}&a_{22}&...&a_{2n}\\\\\n",
        "\\vdots &\\vdots &&\\vdots\\\\\n",
        "a_{m1}&a_{m2}&...&a_{mn}\\\\\n",
        "\\end{matrix}\\right]$\n",
        "    \n",
        "We will represent then as a list of lists.\n",
        "\n",
        "$A = [[a_{11},a_{12},...,a_{1n}],[a_{21},a_{22},...,a_{2n}], . . . ,[a_{m1},a_{m2},...,a_{mn}]]$\n",
        "\n",
        "The **\"matrix\"** funtion must receive two matrices $A$ e $B$ in the specified format and return $A\\times B$"
      ]
    },
    {
      "cell_type": "code",
      "metadata": {
        "id": "shiSJyGmWzXH"
      },
      "source": [
        ""
      ],
      "execution_count": null,
      "outputs": []
    }
  ]
}